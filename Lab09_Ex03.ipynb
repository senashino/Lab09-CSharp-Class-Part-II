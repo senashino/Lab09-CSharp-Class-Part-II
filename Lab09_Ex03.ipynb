{
 "cells": [
  {
   "cell_type": "markdown",
   "metadata": {
    "dotnet_interactive": {
     "language": "csharp"
    },
    "polyglot_notebook": {
     "kernelName": "csharp"
    }
   },
   "source": [
    "# Lab 9 Exercise 3\n",
    "\n",
    "## Instance vs static members\n"
   ]
  },
  {
   "cell_type": "markdown",
   "metadata": {},
   "source": [
    "\n",
    "1. สร้าง console application project\n",
    "\n",
    "```cmd\n",
    "    dotnet new console --name Lab09_Ex03\n",
    "```\n"
   ]
  },
  {
   "cell_type": "markdown",
   "metadata": {},
   "source": [
    "\n",
    "2. เปลี่ยน code ให้เป็นดังต่อไปนี้\n",
    "\n",
    "```csharp\n",
    "    Person.name = \"____Person name _____\";\n",
    "    System.Cοnsο1e.write1ine(Person.GetName());\n",
    "    var student = new Student();\n",
    "    student.name = \"_______student name_______\";\n",
    "    System.Conso1e.ωrite1ine(student.GetName());\n",
    "\n",
    "    static Class Person\n",
    "    {\n",
    "        static  pub1ic string? name;\n",
    "        static  pub1ic string GetName()\n",
    "        {\n",
    "            return $\"Hello from {nawe}\";\n",
    "        }\n",
    "    }\n",
    "\n",
    "    class Student : Person\n",
    "    {\n",
    "        \n",
    "    }\n",
    "```\n"
   ]
  },
  {
   "cell_type": "markdown",
   "metadata": {},
   "source": [
    "\n",
    "3. Build project โดยการใช้คำสั่ง\n",
    "\n",
    "```cmd\n",
    "dotnet bul1d  Lab09_Ex03\n",
    "```\n",
    "\n",
    "ถ้ามีที่ผิดพลาดในโปรแกรม ให้แก้ไขให้ถูกต้อง\n"
   ]
  },
  {
   "cell_type": "markdown",
   "metadata": {},
   "source": [
    "\n",
    "4. บันทึกผลที่ได้จากการรันคำสั่งในข้อ 3 \n"
   ]
  },
  {
   "attachments": {
    "image.png": {
     "image/png": "[encoded data removed]"
    }
   },
   "cell_type": "markdown",
   "metadata": {},
   "source": [
    "![image.png](attachment:image.png)"
   ]
  },
  {
   "cell_type": "markdown",
   "metadata": {},
   "source": [
    "\n",
    "5. Run project โดยการใช้คำสั่ง\n",
    "\n",
    "```cmd\n",
    "dotnet rum --project Lab09_Ex03\n",
    "```\n"
   ]
  },
  {
   "cell_type": "markdown",
   "metadata": {},
   "source": [
    "\n",
    "6. บันทึกผลที่ได้จากการรันคำสั่งในข้อ 5\n"
   ]
  },
  {
   "attachments": {
    "image.png": {
     "image/png": "[encoded data removed]"
    }
   },
   "cell_type": "markdown",
   "metadata": {},
   "source": [
    "![image.png](attachment:image.png)"
   ]
  },
  {
   "cell_type": "markdown",
   "metadata": {},
   "source": [
    "\n",
    "7. อธิบายสิ่งที่พบในการทดลอง"
   ]
  },
  {
   "cell_type": "markdown",
   "metadata": {},
   "source": [
    " Person.name เป็น \"Kannika\" เรียกใช้โดย Person.GatName และ สร้างอ็อบเจ็กต์ student จากคลาส Student และกำหนดค่า name"
   ]
  },
  {
   "cell_type": "markdown",
   "metadata": {},
   "source": [
    "## คำถาม"
   ]
  },
  {
   "cell_type": "markdown",
   "metadata": {},
   "source": [
    "1. ในภาษา C# นั้น Instance members และ static members  แตกต่างกันอย่างไร"
   ]
  },
  {
   "cell_type": "markdown",
   "metadata": {},
   "source": [
    "Instance members เป็นสมาชิกของอ็อบเจ็กต์แต่ละตัวของคลาส ต้องสร้างอ็อบเจ็กต์ก่อนจึงจะใช้งานได้ ส่วนStatic members เป็นสมาชิกของคลาส ไม่ขึ้นกับอ็อบเจ็กต์ใด ๆ สามารถเข้าถึงได้โดยตรงผ่านชื่อคลาส"
   ]
  },
  {
   "cell_type": "markdown",
   "metadata": {},
   "source": [
    "2. เข้าถึง Instance members และ static members มีหลักการที่แตกต่างกันอย่างไร"
   ]
  },
  {
   "cell_type": "markdown",
   "metadata": {},
   "source": [
    "Instance members ต้องเข้าถึงผ่านอ็อบเจ็กต์ (instance) ของคลาา แต่ Static members เข้าถึงได้โดยตรงผ่านชื่อคลาส "
   ]
  },
  {
   "cell_type": "markdown",
   "metadata": {},
   "source": [
    "3. Instance members และ static members เหมาะกับการใช้งานแบบไหน"
   ]
  },
  {
   "cell_type": "markdown",
   "metadata": {},
   "source": [
    "Instance members เหมาะสำหรับข้อมูลหรือพฤติกรรมที่ขึ้นอยู่กับอ็อบเจ็กต์แต่ละตัว ส่วน Static members เหมาะสำหรับข้อมูลหรือพฤติกรรมที่ใช้ร่วมกันทั้งโปรแกรม "
   ]
  },
  {
   "cell_type": "markdown",
   "metadata": {},
   "source": [
    "4. Instance members และ static members ใช้หน่วยความจำต่างกันอย่างไร"
   ]
  },
  {
   "cell_type": "markdown",
   "metadata": {},
   "source": [
    "Instance members ใช้หน่วยความจำแยกกันใน Heap ตามจำนวนอ็อบเจ็กต์ที่สร้างขึ้นมา ส่วน Static members ใช้หน่วยความจำเพียงตำแหน่งเดียวใน Static Memory"
   ]
  },
  {
   "cell_type": "markdown",
   "metadata": {},
   "source": [
    "5. Instance members และ static members มีอายุการใช้งานต่างกันอย่างไร"
   ]
  },
  {
   "cell_type": "markdown",
   "metadata": {},
   "source": [
    "Instance members มีอายุการใช้งานตามอ็อบเจ็กต์ เมื่ออ็อบเจ็กต์ถูกทำลาย แต่ Static members มีอายุการใช้งานตลอดอายุของโปรแกรม ตั้งแต่โหลดคลาสจนกระทั่งโปรแกรมสิ้นสุด"
   ]
  },
  {
   "cell_type": "markdown",
   "metadata": {},
   "source": [
    "6. Instance members และ static members สามารถใช้งานร่วมกันได้หรือไม่"
   ]
  },
  {
   "cell_type": "markdown",
   "metadata": {},
   "source": [
    "Instance members สามารถเข้าถึง static members ได้โดยตรงผ่านชื่อคลาส แต่ Static members ไม่สามารถ เข้าถึง instance members ได้โดยตรง"
   ]
  },
  {
   "cell_type": "markdown",
   "metadata": {},
   "source": [
    "7. keyword static ใช้กับสมาชิกประเภทใดของคลาสได้บ้าง"
   ]
  },
  {
   "cell_type": "markdown",
   "metadata": {},
   "source": [
    " field, property, method, constructor, event, class"
   ]
  }
 ],
 "metadata": {
  "kernelspec": {
   "display_name": ".NET (C#)",
   "language": "C#",
   "name": ".net-csharp"
  },
  "polyglot_notebook": {
   "kernelInfo": {
    "defaultKernelName": "csharp",
    "items": [
     {
      "aliases": [],
      "languageName": "csharp",
      "name": "csharp"
     }
    ]
   }
  }
 },
 "nbformat": 4,
 "nbformat_minor": 2
}
